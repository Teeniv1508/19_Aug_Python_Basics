{
 "cells": [
  {
   "cell_type": "code",
   "execution_count": 1,
   "id": "d47a879e-1255-4f3b-bc47-c9fad7f50cf7",
   "metadata": {},
   "outputs": [
    {
     "data": {
      "text/plain": [
       "(8, 5)"
      ]
     },
     "execution_count": 1,
     "metadata": {},
     "output_type": "execute_result"
    }
   ],
   "source": [
    "'''Declare two variables, `x` and `y`, and assign them integer values. Swap the\n",
    "values of these variables without using any temporary variable.'''\n",
    "# Assign values\n",
    "x,y = 5,8\n",
    "# Swapping\n",
    "x,y = y,x\n",
    "# Print swapped value\n",
    "x,y\n"
   ]
  },
  {
   "cell_type": "code",
   "execution_count": 4,
   "id": "9aee8d60-b4b2-468e-b559-fef08e552eba",
   "metadata": {},
   "outputs": [
    {
     "name": "stdin",
     "output_type": "stream",
     "text": [
      " 7 \n",
      " 5\n"
     ]
    },
    {
     "name": "stdout",
     "output_type": "stream",
     "text": [
      "Area of rectangle:35\n"
     ]
    }
   ],
   "source": [
    "'''Create a program that calculates the area of a rectangle. Take the length and\n",
    "width as inputs from the user and store them in variables. Calculate and\n",
    "display the area.'''\n",
    "# Taking width and lenght from user\n",
    "l = int(input())\n",
    "w = int(input())\n",
    "# Area of rectangle\n",
    "area = l*w\n",
    "# Print area\n",
    "print(f\"Area of rectangle:{area}\")"
   ]
  },
  {
   "cell_type": "code",
   "execution_count": 5,
   "id": "5eaff590-2485-4c24-acb5-bfa7553fb6a7",
   "metadata": {},
   "outputs": [
    {
     "name": "stdin",
     "output_type": "stream",
     "text": [
      " 25\n"
     ]
    },
    {
     "name": "stdout",
     "output_type": "stream",
     "text": [
      "Temperature in Celsius 25 and Temperature in Fahrenhite 77.0\n"
     ]
    }
   ],
   "source": [
    "'''  Write a Python program that converts temperatures from Celsius to\n",
    "Fahrenheit. Take the temperature in Celsius as input, store it in a variable,\n",
    "convert it to Fahrenheit, and display the result. '''\n",
    "# Taking temp from user in Celsius\n",
    "tempc = int(input())\n",
    "# Convert C to F\n",
    "tempf = (tempc * 9/5) + 32\n",
    "print(f\"Temperature in Celsius {tempc} and Temperature in Fahrenhite {tempf}\")"
   ]
  },
  {
   "cell_type": "code",
   "execution_count": 6,
   "id": "2e694d0f-b048-4168-bdc4-d6829de6ae47",
   "metadata": {},
   "outputs": [
    {
     "name": "stdin",
     "output_type": "stream",
     "text": [
      " Leo Messi plays for Inter Miami\n"
     ]
    },
    {
     "name": "stdout",
     "output_type": "stream",
     "text": [
      "Lenght of string 31\n"
     ]
    }
   ],
   "source": [
    "'''Write a Python program that takes a string as input and prints the length of\n",
    "the string. '''\n",
    "# Taking string from the user\n",
    "strr = str(input())\n",
    "# Lenght of string\n",
    "count = 0\n",
    "for char in strr:\n",
    "    count = count + 1\n",
    "print(f\"Lenght of string {count}\")"
   ]
  },
  {
   "cell_type": "code",
   "execution_count": 7,
   "id": "4a483740-b9ad-437b-9020-bef552368d07",
   "metadata": {},
   "outputs": [
    {
     "name": "stdin",
     "output_type": "stream",
     "text": [
      " Leo Messi plays for Inter Miami\n"
     ]
    },
    {
     "name": "stdout",
     "output_type": "stream",
     "text": [
      "Vowels in string 11\n"
     ]
    }
   ],
   "source": [
    "''' Create a program that takes a sentence from the user and counts the number\n",
    "of vowels (a, e, i, o, u) in the string '''\n",
    "# Taking string from the user\n",
    "strr = str(input())\n",
    "# Vowels in the string\n",
    "countv = 0\n",
    "vowels  = \"aeiouAEIOU\"\n",
    "for char in strr:\n",
    "    if char in vowels:\n",
    "        countv = countv + 1\n",
    "print(f\"Vowels in string {countv}\")"
   ]
  },
  {
   "cell_type": "code",
   "execution_count": 8,
   "id": "29cd549f-353e-476c-b0bb-2047e9bde2de",
   "metadata": {},
   "outputs": [
    {
     "name": "stdin",
     "output_type": "stream",
     "text": [
      " Inter Miami has become retirement place for Braca players\n"
     ]
    },
    {
     "name": "stdout",
     "output_type": "stream",
     "text": [
      "Forward string : Inter Miami has become retirement place for Braca players\n",
      "Reverse string : sreyalp acarB rof ecalp tnemeriter emoceb sah imaiM retnI\n"
     ]
    }
   ],
   "source": [
    "'''Given a string, reverse the order of characters using string slicing and print\n",
    "the reversed string.'''\n",
    "# Taking string from the user\n",
    "strr = str(input())\n",
    "# Reverse the string using slicing\n",
    "rev = strr[::-1]\n",
    "# Print both string\n",
    "print(f\"Forward string : {strr}\")\n",
    "print(f\"Reverse string : {rev}\")"
   ]
  },
  {
   "cell_type": "code",
   "execution_count": 9,
   "id": "a8b90b63-c21b-465f-908d-3e3cdd99e9d2",
   "metadata": {},
   "outputs": [
    {
     "name": "stdin",
     "output_type": "stream",
     "text": [
      " wateretaw\n"
     ]
    },
    {
     "name": "stdout",
     "output_type": "stream",
     "text": [
      "palindrome\n"
     ]
    }
   ],
   "source": [
    "''' Write a program that takes a string as input and checks if it is a palindrome\n",
    "(reads the same forwards and backwards).'''\n",
    "# Taking string from the user\n",
    "strr = str(input())\n",
    "# Reversing the string\n",
    "strrv = strr[::-1]\n",
    "# Check palindrome\n",
    "if strr == strrv:\n",
    "    print(\"palindrome\")\n",
    "else:\n",
    "    print(\"not palindrome\")"
   ]
  },
  {
   "cell_type": "code",
   "execution_count": 10,
   "id": "7222b62c-c7e7-44d7-999d-a4f958dfb901",
   "metadata": {},
   "outputs": [
    {
     "name": "stdin",
     "output_type": "stream",
     "text": [
      " Leo Messi 10\n"
     ]
    },
    {
     "name": "stdout",
     "output_type": "stream",
     "text": [
      "With space : Leo Messi 10\n",
      "Without space : LeoMessi10\n"
     ]
    }
   ],
   "source": [
    "''' Create a program that takes a string as input and removes all the spaces from\n",
    "it. Print the modified string without spaces. '''\n",
    "# Taking string from the user\n",
    "strr = str(input())\n",
    "# Remove spaces from string\n",
    "strrw = strr.replace(' ','')\n",
    "# Printing both string \n",
    "# with space\n",
    "print(f\"With space : {strr}\")\n",
    "# without space\n",
    "print(f\"Without space : {strrw}\")"
   ]
  },
  {
   "cell_type": "code",
   "execution_count": null,
   "id": "9d55048c-207b-4d76-a1de-c99878ca6fe9",
   "metadata": {},
   "outputs": [],
   "source": []
  }
 ],
 "metadata": {
  "kernelspec": {
   "display_name": "Python 3 (ipykernel)",
   "language": "python",
   "name": "python3"
  },
  "language_info": {
   "codemirror_mode": {
    "name": "ipython",
    "version": 3
   },
   "file_extension": ".py",
   "mimetype": "text/x-python",
   "name": "python",
   "nbconvert_exporter": "python",
   "pygments_lexer": "ipython3",
   "version": "3.10.8"
  }
 },
 "nbformat": 4,
 "nbformat_minor": 5
}
